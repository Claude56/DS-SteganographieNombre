{
 "cells": [
  {
   "cell_type": "markdown",
   "id": "married-hands",
   "metadata": {},
   "source": [
    "<h1 style=\"color: navy\"> DS sur la stéganographie:</h1>"
   ]
  },
  {
   "cell_type": "markdown",
   "id": "hollywood-logging",
   "metadata": {},
   "source": [
    "Rappel: Le principe de la stéganographie consiste à dissimuler une information dans une autre. En informatique, il s'agit d'utiliser le LSB de l'information principale, pour cacher, dissimuler une information:"
   ]
  },
  {
   "cell_type": "markdown",
   "id": "atmospheric-feeling",
   "metadata": {},
   "source": [
    "![image_1](2021-03-18_22-34.png)"
   ]
  },
  {
   "cell_type": "markdown",
   "id": "black-lodging",
   "metadata": {},
   "source": [
    "<h2 style= \"color: navy\">Un exemple avec des nombres :</h2>\n",
    "Étape 1: Encodage ou préparation de C à partir de A et B: <br>\n",
    "\n",
    "- B est le nombre principal, en clair.  \n",
    "- A est le nombre à dissimuler dans B: comme A et B sont dans un format identique, seuls les trois bits de poids fort de A seront dissimulés dans B, à la place des trois bits de poids faibles, de ce dernier.  \n",
    "- C => est donc le nombre composite résultant de l'encodage de A dans B.  \n",
    "![image_2](2021-03-18_22-43.png)\n",
    "\n",
    "Étape 2 : Décodage de a et b à partir de C:\n",
    "\n",
    "- De C on extrait les valeurs a et b, qui sont les valeurs tronquées de A et B:\n",
    "![image_2](2021-03-18_22-43_1.png)"
   ]
  },
  {
   "cell_type": "markdown",
   "id": "threatened-stevens",
   "metadata": {},
   "source": [
    "Question 1:  \n",
    "Il existe une valeur minimale de A en dessous de laquelle l'extraction de \"a\" n'est pas significative:  \n",
    "11/ Donner cette limite à valeur de A (en binaire et en décimal).  \n",
    "12/ Quelle valeur de \"a\" obtient-on ?"
   ]
  },
  {
   "cell_type": "markdown",
   "id": "short-cooperative",
   "metadata": {},
   "source": [
    "Question 2:  \n",
    "21/ Donner une valeur particulière de A qui ne génère pas d’erreur sur \"a\" lors de l’extraction: A=a  \n",
    "22/ Justifier brièvement cette valeur."
   ]
  },
  {
   "cell_type": "markdown",
   "id": "communist-sweet",
   "metadata": {},
   "source": [
    "Question 3:  \n",
    "31/ Qu'est-ce qui caractérise les valeurs de B ne générant pas d'erreur sur \"b\" ?  \n",
    "32/ Justifier brièvement."
   ]
  },
  {
   "cell_type": "markdown",
   "id": "suffering-michigan",
   "metadata": {},
   "source": [
    "Question 4:  \n",
    "Compléter le programme suivant: compléter là où se trouvent des ???"
   ]
  },
  {
   "cell_type": "code",
   "execution_count": 1,
   "id": "hidden-sugar",
   "metadata": {
    "collapsed": true
   },
   "outputs": [
    {
     "name": "stdout",
     "output_type": "stream",
     "text": [
      "Saisir la valeur du nombre à dissimuler : 204\n",
      "Saisir la valeur du nombre support de la dissimulation : 250\n",
      "\n",
      "La valeur du nombre composite est : 254\n",
      "\n",
      "La valeur de a est : 208\n",
      "La valeur de b est : 248\n"
     ]
    }
   ],
   "source": [
    "''' Exercice: La stéganographie avec des nombres: '''\n",
    "\n",
    "# DECLARATION DES FONCTIONS: #\n",
    "\n",
    "\n",
    "def lsbCode(data):\n",
    "    ''' Construit le nombre C transportant à la fois\n",
    "    l'info B et le nombre A dissimulé.\n",
    "    data => tuple: (A, B)\n",
    "    Retourne le nombre C, composite\n",
    "    '''\n",
    "    a1 = ????  # isoler les 3 bits de poids fort de A\n",
    "    b1 = ????  # Masquer les 3 bits de poids faibles de B\n",
    "    return a1 + b1  # associer a1 et b1\n",
    "\n",
    "\n",
    "def lsbDecode(C):\n",
    "    ''' Extrait de C, le nombre B approché => b\n",
    "    ainsi que le nombre A approché => a\n",
    "    C => le nombre portant la valeur de A encodée dans B\n",
    "    Retourne a et b\n",
    "    '''\n",
    "    # Extraction de b: masquer les 3 bits de poids faible de C:\n",
    "    b = ?????\n",
    "    a = ?????  # Extraction des 3 bits de a\n",
    "    a = ?????  # (Donner leur rang exact, ou leur place, aux bits de a) + 2^4\n",
    "    return (a, b)\n",
    "\n",
    "\n",
    "# PROGRAMME PRINCIPAL: #\n",
    "''' Construction du tuple 'data': '''\n",
    "A = ???(input(\"Saisir la valeur du nombre à dissimuler (A) : \"))\n",
    "B = ???(input(\"Saisir la valeur du nombre support de la dissimulation (B): \"))\n",
    "data = (A, B)\n",
    "?????  # Appel de lsbCode\n",
    "result = ??????\n",
    "print(f\"\\nLa valeur du nombre composite est : {C}\")\n",
    "print(f\"\\nLa valeur de a est : {????}\\nLa valeur de b est : {?????}\")"
   ]
  },
  {
   "cell_type": "markdown",
   "id": "recreational-conversion",
   "metadata": {},
   "source": [
    "Question 5:  \n",
    "Tel qu'il est écrit, le programme précédent à un inconvénient: les valeurs saisies pour A et B doivent être inférieurs ou égales à 255.\n",
    "51/ Proposer une solution pour remédier à ce problème."
   ]
  }
 ],
 "metadata": {
  "kernelspec": {
   "display_name": "Python 3",
   "language": "python",
   "name": "python3"
  },
  "language_info": {
   "codemirror_mode": {
    "name": "ipython",
    "version": 3
   },
   "file_extension": ".py",
   "mimetype": "text/x-python",
   "name": "python",
   "nbconvert_exporter": "python",
   "pygments_lexer": "ipython3",
   "version": "3.6.9"
  }
 },
 "nbformat": 4,
 "nbformat_minor": 5
}
